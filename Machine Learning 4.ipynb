{
 "cells": [
  {
   "cell_type": "markdown",
   "metadata": {},
   "source": [
    "# 2.Problem Statement\n",
    "Predicting Survival in the Titanic Data Set\n",
    "We will be using a decision tree to make predictions about the Titanic data\n",
    "set from Kaggle. This data set provides information on the Titanic\n",
    "passengers and can be used to predict whether a passenger survived or\n",
    "not."
   ]
  },
  {
   "cell_type": "code",
   "execution_count": 1,
   "metadata": {},
   "outputs": [],
   "source": [
    "import numpy as np \n",
    "import pandas as pd \n",
    "import seaborn as sb \n",
    "import matplotlib.pyplot as plt \n",
    "import sklearn \n",
    "from pandas import Series, DataFrame \n",
    "from pylab import rcParams \n",
    "from sklearn import preprocessing \n",
    "from sklearn.tree import DecisionTreeClassifier \n",
    "from sklearn.model_selection import train_test_split \n",
    "from sklearn import metrics\n",
    "from sklearn.metrics import accuracy_score,classification_report"
   ]
  },
  {
   "cell_type": "code",
   "execution_count": 2,
   "metadata": {},
   "outputs": [],
   "source": [
    "Url= \"https://raw.githubusercontent.com/BigDataGal/Python-for-Data-Science/master/titanic-train.csv \"\n",
    "titanic_df = pd.read_csv(Url)"
   ]
  },
  {
   "cell_type": "markdown",
   "metadata": {},
   "source": [
    "titanic_df.columns"
   ]
  },
  {
   "cell_type": "markdown",
   "metadata": {},
   "source": [
    "titanic_df.describe()"
   ]
  },
  {
   "cell_type": "markdown",
   "metadata": {},
   "source": [
    "#  Function for data preprocessing\n",
    "1. Feature selection (as given in the assignment)\n",
    "2. Handling missing values"
   ]
  },
  {
   "cell_type": "code",
   "execution_count": 5,
   "metadata": {},
   "outputs": [],
   "source": [
    "def data_preprocessing(df):\n",
    "    #titanic.drop(['PassengerId', 'Name', 'Ticket', 'Cabin','Embarked'], 1, inplace=True)\n",
    "    #print(titanic.tail())\n",
    "    df = df.loc[:,['Survived','Pclass','Sex','Age','SibSp','Parch','Fare']]\n",
    "    df.convert_objects(convert_numeric=True)\n",
    "    df.fillna(0, inplace=True) \n",
    "    \n",
    "    return df"
   ]
  },
  {
   "cell_type": "markdown",
   "metadata": {},
   "source": [
    "# Function to handle categorical / Non-numerical data"
   ]
  },
  {
   "cell_type": "code",
   "execution_count": 7,
   "metadata": {},
   "outputs": [],
   "source": [
    "def handle_non_numeric_data(df):\n",
    "    columns = df.columns.values\n",
    "    \n",
    "    for column in columns:\n",
    "        text_digit_vals = {}\n",
    "        def convert_to_int(val):\n",
    "            return text_digit_vals[val]\n",
    "        \n",
    "        if df[column].dtype != np.int64 and df[column].dtype != np.float64:\n",
    "            column_contents = df[column].values.tolist()\n",
    "            unique_elements = set(column_contents)\n",
    "            \n",
    "            x = 0            \n",
    "            for unique in unique_elements:\n",
    "                if unique not in text_digit_vals:\n",
    "                    text_digit_vals[unique] = x\n",
    "                    x+=1                    \n",
    "            df[column] = list(map(convert_to_int, df[column]))\n",
    "            \n",
    "    return df\n"
   ]
  },
  {
   "cell_type": "markdown",
   "metadata": {},
   "source": [
    "# Data preprocessing\n",
    "1. Call function data_preprocessing on titanic dataset to select features and handle missing data\n",
    "2. Call function handle_non_numeric_data on titanic dataset to handle non-numeric data"
   ]
  },
  {
   "cell_type": "code",
   "execution_count": 8,
   "metadata": {},
   "outputs": [
    {
     "name": "stdout",
     "output_type": "stream",
     "text": [
      "     Survived  Pclass     Sex   Age  SibSp  Parch   Fare\n",
      "886         0       2    male  27.0      0      0  13.00\n",
      "887         1       1  female  19.0      0      0  30.00\n",
      "888         0       3  female   0.0      1      2  23.45\n",
      "889         1       1    male  26.0      0      0  30.00\n",
      "890         0       3    male  32.0      0      0   7.75\n"
     ]
    },
    {
     "name": "stderr",
     "output_type": "stream",
     "text": [
      "C:\\Users\\Anu\\Anaconda3\\lib\\site-packages\\ipykernel_launcher.py:5: FutureWarning: convert_objects is deprecated.  To re-infer data dtypes for object columns, use DataFrame.infer_objects()\n",
      "For all other conversions use the data-type specific converters pd.to_datetime, pd.to_timedelta and pd.to_numeric.\n",
      "  \"\"\"\n"
     ]
    }
   ],
   "source": [
    "titanic_df1 = data_preprocessing(titanic_df)\n",
    "print(titanic_df1.tail())"
   ]
  },
  {
   "cell_type": "code",
   "execution_count": 9,
   "metadata": {},
   "outputs": [
    {
     "name": "stdout",
     "output_type": "stream",
     "text": [
      "     Survived  Pclass  Sex   Age  SibSp  Parch   Fare\n",
      "886         0       2    0  27.0      0      0  13.00\n",
      "887         1       1    1  19.0      0      0  30.00\n",
      "888         0       3    1   0.0      1      2  23.45\n",
      "889         1       1    0  26.0      0      0  30.00\n",
      "890         0       3    0  32.0      0      0   7.75\n"
     ]
    }
   ],
   "source": [
    "titanic_df1 = handle_non_numeric_data(titanic_df1)\n",
    "print(titanic_df1.tail())"
   ]
  },
  {
   "cell_type": "markdown",
   "metadata": {},
   "source": [
    "# Define input parameters for machine learning model"
   ]
  },
  {
   "cell_type": "code",
   "execution_count": 10,
   "metadata": {},
   "outputs": [],
   "source": [
    "\n",
    "X = np.array(titanic_df1.drop(['Survived'], 1).astype(float))\n",
    "Y = np.array(titanic_df1['Survived'])"
   ]
  },
  {
   "cell_type": "markdown",
   "metadata": {},
   "source": [
    "# Apply model\n",
    "1. Split dataset into training and test dataset\n",
    "2. Apply machine learning model (Decision tree classifier)\n",
    "3. Fit the model on input parameters X,Y"
   ]
  },
  {
   "cell_type": "code",
   "execution_count": 11,
   "metadata": {},
   "outputs": [
    {
     "data": {
      "text/plain": [
       "DecisionTreeClassifier(class_weight=None, criterion='gini', max_depth=None,\n",
       "            max_features=None, max_leaf_nodes=None,\n",
       "            min_impurity_decrease=0.0, min_impurity_split=None,\n",
       "            min_samples_leaf=1, min_samples_split=20,\n",
       "            min_weight_fraction_leaf=0.0, presort=False, random_state=99,\n",
       "            splitter='best')"
      ]
     },
     "execution_count": 11,
     "metadata": {},
     "output_type": "execute_result"
    }
   ],
   "source": [
    "X_train, X_test, Y_train, Y_test = train_test_split( X, Y, test_size = 0.3, random_state = 100)\n",
    "d_tree = DecisionTreeClassifier(min_samples_split=20, random_state=99)\n",
    "d_tree.fit(X_train, Y_train)"
   ]
  },
  {
   "cell_type": "markdown",
   "metadata": {},
   "source": [
    "# Model evaluation\n",
    "1. Predict outcome for test dataset using the model applied on trainning dataset\n",
    "2. Calculate accuracy using the actual and predicted outcome"
   ]
  },
  {
   "cell_type": "code",
   "execution_count": 12,
   "metadata": {},
   "outputs": [
    {
     "name": "stdout",
     "output_type": "stream",
     "text": [
      "Accuracy is  78.73134328358209\n"
     ]
    }
   ],
   "source": [
    "Y_pred = d_tree.predict(X_test)\n",
    "print(\"Accuracy is \", accuracy_score(Y_test,Y_pred)*100)"
   ]
  },
  {
   "cell_type": "code",
   "execution_count": 13,
   "metadata": {},
   "outputs": [
    {
     "name": "stdout",
     "output_type": "stream",
     "text": [
      "Accuracy calculation using confusion metrics : 0.7873134328358209\n"
     ]
    }
   ],
   "source": [
    "# this produces a 2x2 numpy array (matrix)\n",
    "confusion = metrics.confusion_matrix(Y_test, Y_pred)\n",
    "\n",
    "TP = confusion[1, 1]\n",
    "TN = confusion[0, 0]\n",
    "FN = confusion[1, 0]\n",
    "print(f\"Accuracy calculation using confusion metrics : {((TP + TN) / float(TP + TN + FP + FN))}\")"
   ]
  },
  {
   "cell_type": "code",
   "execution_count": 14,
   "metadata": {},
   "outputs": [
    {
     "name": "stdout",
     "output_type": "stream",
     "text": [
      "classification_error using accuracy_score is : 0.2126865671641791\n",
      "classification_error using confusion metrics is : 0.2126865671641791\n"
     ]
    }
   ],
   "source": [
    "print(f\"classification_error using accuracy_score is : {1 - metrics.accuracy_score(Y_test, Y_pred)}\")\n",
    "print(f\"classification_error using confusion metrics is : {(FP + FN) / float(TP + TN + FP + FN)}\")"
   ]
  },
  {
   "cell_type": "markdown",
   "metadata": {},
   "source": [
    "# Model deployment (Check outcome for unseen data)"
   ]
  },
  {
   "cell_type": "code",
   "execution_count": 15,
   "metadata": {},
   "outputs": [
    {
     "data": {
      "text/plain": [
       "array([0, 0, 0], dtype=int64)"
      ]
     },
     "execution_count": 15,
     "metadata": {},
     "output_type": "execute_result"
    }
   ],
   "source": [
    "arr = np.array([[3,1,22,1,0,7.25],[3.,1.,20.,0.,0.,7.8958],[1,0,38,1,0,71.2833]])\n",
    "d_tree.predict(arr)"
   ]
  }
 ],
 "metadata": {
  "kernelspec": {
   "display_name": "Python 3",
   "language": "python",
   "name": "python3"
  },
  "language_info": {
   "codemirror_mode": {
    "name": "ipython",
    "version": 3
   },
   "file_extension": ".py",
   "mimetype": "text/x-python",
   "name": "python",
   "nbconvert_exporter": "python",
   "pygments_lexer": "ipython3",
   "version": "3.7.1"
  }
 },
 "nbformat": 4,
 "nbformat_minor": 2
}
